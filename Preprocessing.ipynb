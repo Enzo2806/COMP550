{
 "cells": [
  {
   "cell_type": "markdown",
   "metadata": {},
   "source": [
    "# Imports"
   ]
  },
  {
   "cell_type": "code",
   "execution_count": 1,
   "metadata": {},
   "outputs": [
    {
     "name": "stderr",
     "output_type": "stream",
     "text": [
      "[nltk_data] Downloading package punkt to /Users/enzobenoit-\n",
      "[nltk_data]     jeannin/nltk_data...\n",
      "[nltk_data]   Package punkt is already up-to-date!\n"
     ]
    }
   ],
   "source": [
    "# IMPORTS\n",
    "import torch\n",
    "import torch.nn as nn\n",
    "import json # for loading the json file\n",
    "from torch.utils.data import Dataset # for creating the dataset\n",
    "from torch.utils.data import DataLoader # for creating the dataloader\n",
    "from torch.utils.data import random_split # for splitting the dataset\n",
    "from torch.nn.utils.rnn import pad_sequence # for padding the sequences\n",
    "\n",
    "# for tokenizing the sentences\n",
    "import nltk \n",
    "from nltk.tokenize import word_tokenize \n",
    "nltk.download('punkt') \n",
    "\n",
    "\n",
    "# For splitting the dataset into train, validation anmd testing\n",
    "import random\n",
    "from sklearn.model_selection import train_test_split"
   ]
  },
  {
   "cell_type": "markdown",
   "metadata": {},
   "source": [
    "# Preprocessing"
   ]
  },
  {
   "cell_type": "markdown",
   "metadata": {},
   "source": [
    "We first load the header json file were we store paths / parameters / etc."
   ]
  },
  {
   "cell_type": "code",
   "execution_count": 2,
   "metadata": {},
   "outputs": [],
   "source": [
    "# Load the JSON header file\n",
    "def load_json_header(json_file):\n",
    "    with open(json_file) as json_data:\n",
    "        d = json.load(json_data)\n",
    "        return d\n",
    "\n",
    "config = load_json_header('config.json')"
   ]
  },
  {
   "cell_type": "markdown",
   "metadata": {},
   "source": [
    "### Functions"
   ]
  },
  {
   "cell_type": "markdown",
   "metadata": {},
   "source": [
    "We now define the set of functions we will used to preprocess the data.\n",
    "\n"
   ]
  },
  {
   "cell_type": "markdown",
   "metadata": {},
   "source": [
    "We define a function to load the data from the files. The file paths are defined in the config file."
   ]
  },
  {
   "cell_type": "code",
   "execution_count": 3,
   "metadata": {},
   "outputs": [],
   "source": [
    "def load_data(source_file_path, target_file_path):\n",
    "    \"\"\"\n",
    "    Load data from two separate files where each line in one file corresponds to the line in the other file.\n",
    "    \"\"\"\n",
    "    with open(source_file_path, 'r', encoding='utf-8') as file:\n",
    "        source = file.read().split('\\n')\n",
    "    with open(target_file_path, 'r', encoding='utf-8') as file:\n",
    "        target = file.read().split('\\n')\n",
    "\n",
    "    return source, target"
   ]
  },
  {
   "cell_type": "code",
   "execution_count": 4,
   "metadata": {},
   "outputs": [],
   "source": [
    "def build_vocab(sentences, min_frequency=2, special_tokens=[\"[UNK]\", \"[SOS]\", \"[EOS]\", \"[PAD]\"]):\n",
    "    vocab = {}\n",
    "    word_counts = {}\n",
    "\n",
    "    # Initialize vocab with special tokens\n",
    "    for token in special_tokens:\n",
    "        vocab[token] = len(vocab)\n",
    "\n",
    "    # Count word frequencies\n",
    "    for sentence in sentences:\n",
    "        for word in word_tokenize(sentence):\n",
    "            word_counts[word] = word_counts.get(word, 0) + 1\n",
    "\n",
    "    # Add words above min frequency to vocab\n",
    "    for word, count in word_counts.items():\n",
    "        if count >= min_frequency:\n",
    "            vocab[word] = len(vocab)\n",
    "\n",
    "    return vocab\n",
    "\n",
    "def tokenize_and_numericalize(sentence, vocab):\n",
    "    return [vocab.get(word, vocab[\"[UNK]\"]) for word in word_tokenize(sentence)]\n"
   ]
  },
  {
   "cell_type": "code",
   "execution_count": 5,
   "metadata": {},
   "outputs": [],
   "source": [
    "def shuffle_and_split(source_sentences, target_sentences, test_size, val_size):\n",
    "    combined = list(zip(source_sentences, target_sentences))\n",
    "    random.shuffle(combined)\n",
    "    shuffled_source_sentences, shuffled_target_sentences = zip(*combined)\n",
    "\n",
    "    # Splitting into train and test\n",
    "    src_train_val, src_test, trg_train_val, trg_test = train_test_split(\n",
    "        shuffled_source_sentences, shuffled_target_sentences, test_size = test_size, random_state =42)\n",
    "    \n",
    "    # Splitting train_val into train and val\n",
    "    src_train, src_val, trg_train, trg_val = train_test_split(\n",
    "        src_train_val, trg_train_val, test_size = val_size/(1 - test_size), random_state=42)\n",
    "\n",
    "    return src_train, src_val, src_test, trg_train, trg_val, trg_test"
   ]
  },
  {
   "cell_type": "code",
   "execution_count": 6,
   "metadata": {},
   "outputs": [],
   "source": [
    "# Causal mask: each word in the decoder can only look at previous words\n",
    "# This is done to prevent the decoder from looking at future words\n",
    "# seq_len: length of the sequence\n",
    "def causal_mask(seq_len):\n",
    "    # Create a matrix of size seq_len x seq_len\n",
    "    # Fill the upper triangle with 0s and lower triangle with 1s\n",
    "    # This is done to prevent the decoder from looking at future words\n",
    "    return torch.tril(torch.ones((1, seq_len, seq_len), dtype=torch.int64)) "
   ]
  },
  {
   "cell_type": "markdown",
   "metadata": {},
   "source": [
    "### Dataset Class"
   ]
  },
  {
   "cell_type": "code",
   "execution_count": 7,
   "metadata": {},
   "outputs": [],
   "source": [
    "class TranslationDataset(Dataset):\n",
    "\n",
    "    def __init__(self, source_ds, target_ds, src_vocab, trg_vocab, seq_len):\n",
    "        super().__init__()\n",
    "        self.source_ds = source_ds\n",
    "        self.target_ds = target_ds\n",
    "        self.src_vocab = src_vocab\n",
    "        self.trg_vocab = trg_vocab\n",
    "        self.seq_len = seq_len\n",
    "\n",
    "        self.sos_token = torch.tensor([src_vocab[\"[SOS]\"]], dtype=torch.int64)\n",
    "        self.eos_token = torch.tensor([src_vocab[\"[EOS]\"]], dtype=torch.int64)\n",
    "        self.pad_token = torch.tensor([src_vocab[\"[PAD]\"]], dtype=torch.int64)\n",
    "    \n",
    "    def __len__(self):\n",
    "        return len(self.source_ds)\n",
    "\n",
    "    def __getitem__(self, idx):\n",
    "        # Get source and target sentences\n",
    "        src = self.source_ds[idx]\n",
    "        trg = self.target_ds[idx]\n",
    "\n",
    "        # Cnvert text to tokens to split into single words\n",
    "        # Convert to input ids: map words to vocab ids\n",
    "        enc_input_tokens = tokenize_and_numericalize(src, self.src_vocab)\n",
    "        dec_input_tokens = tokenize_and_numericalize(trg, self.trg_vocab)\n",
    "\n",
    "        # PAD input sequences to the same length so that model can be trained in batches where each input sequence has the same length\n",
    "        # minus 2: remove SOS and EOS tokens from the count\n",
    "        enc_num_padding = self.seq_len - len(enc_input_tokens) - 2\n",
    "        \n",
    "        # Only minus 1: remove SOS token from the count (EOS token is not included in the input sequence)\n",
    "        dec_num_padding = self.seq_len - len(dec_input_tokens) - 1\n",
    "        \n",
    "        if enc_num_padding < 0 or dec_num_padding < 0:\n",
    "            raise Exception(\"Sequence length is too long\")\n",
    "\n",
    "        # Add SOS and EOS tokens to the input sequence\n",
    "        encoder_input = torch.cat([\n",
    "            self.sos_token, \n",
    "            torch.tensor(enc_input_tokens, dtype = torch.int64),\n",
    "            self.eos_token, \n",
    "            self.pad_token.repeat(enc_num_padding)])\n",
    "\n",
    "        # Add SOS token to the decoder input sequence\n",
    "        decoder_input = torch.cat([\n",
    "            self.sos_token, \n",
    "            torch.tensor(dec_input_tokens, dtype = torch.int64),\n",
    "            self.pad_token.repeat(dec_num_padding)])\n",
    "        \n",
    "        # Add EOS token to the decoder label sequence\n",
    "        label = torch.cat([\n",
    "            torch.tensor(dec_input_tokens, dtype = torch.int64),\n",
    "            self.eos_token, \n",
    "            self.pad_token.repeat(dec_num_padding)])\n",
    "\n",
    "        assert encoder_input.shape[0] == self.seq_len\n",
    "        assert decoder_input.shape[0] == self.seq_len\n",
    "        assert label.shape[0] == self.seq_len\n",
    "\n",
    "        return {\n",
    "            \"encoder_input\": encoder_input, # size seq_len\n",
    "            \"decoder_input\": decoder_input, # size seq_len\n",
    "            \"encoder_mask\": (encoder_input != self.pad_token).unsqueeze(0).unsqueeze(0).int(), # (1,1, Seq_len) # DOnt want the padding tokens to participate in the self attention mechnaism\n",
    "            \n",
    "            # Causal mask: each word can onlky look at previosu words and not future words and padding tokens as well. \n",
    "            \"decoder_mask\": (decoder_input != self.pad_token).unsqueeze(0).unsqueeze(0).int() & causal_mask(decoder_input.size(0)), # (1,1, Seq_len) & (1, Seq_len, Seq_len)\n",
    "            \"label\": label,\n",
    "            \"src\": src,\n",
    "            \"trg\": trg\n",
    "        }"
   ]
  },
  {
   "cell_type": "markdown",
   "metadata": {},
   "source": [
    "### Apply preprocessing"
   ]
  },
  {
   "cell_type": "code",
   "execution_count": 8,
   "metadata": {},
   "outputs": [],
   "source": [
    "# Load the English-Italian dataset\n",
    "en_file_path = config['en-it-dataset-english'] \n",
    "it_file_path = config['en-it-dataset-italian']"
   ]
  },
  {
   "cell_type": "code",
   "execution_count": 9,
   "metadata": {},
   "outputs": [],
   "source": [
    "# def preprocess(source_file_path, target_file_path):\n",
    "source_file_path = en_file_path\n",
    "target_file_path = it_file_path\n",
    "# Load data from source and target files\n",
    "source, target = load_data(source_file_path, target_file_path)\n",
    "\n",
    "# Check if source and target files have the same number of lines\n",
    "if len(source) != len(target):\n",
    "    raise Exception(\"Source and target files do not have the same number of lines\")\n",
    "\n",
    "# Build vocab dictionaries for source and target languages\n",
    "source_vocab = build_vocab(source)\n",
    "target_vocab = build_vocab(target)\n",
    "\n",
    "\n",
    "# We first get the validation and testing set sizes located in the config file\n",
    "# We then calculate the training set size from them and the total dataset size (see the shuffle and split function above)\n",
    "val_size = config[\"val_size\"]\n",
    "test_size = config[\"test_size\"]\n",
    "\n",
    "# Split into train and validation sets, making sure that the source and target sentences are aligned\n",
    "src_train, src_val, src_test, trg_train, trg_val, trg_test = shuffle_and_split(source, target, test_size=test_size, val_size=val_size)\n",
    "\n",
    "# Check that the source and target datasets have the same size after split, otherwise raise an exception\n",
    "if len(src_train) != len(trg_train) or len(src_val) != len(trg_val) or len(src_test) != len(trg_test):\n",
    "    raise Exception(\"Source and target datasets do not have the same size\")"
   ]
  },
  {
   "cell_type": "code",
   "execution_count": 10,
   "metadata": {},
   "outputs": [
    {
     "name": "stdout",
     "output_type": "stream",
     "text": [
      "Train dataset size: 1527292\n",
      "Validation dataset size: 190912\n",
      "Test dataset size: 190912\n"
     ]
    }
   ],
   "source": [
    "# Create datasets\n",
    "# We use the TranslationDataset class defined above\n",
    "# We pass the source and target datasets, source and target languages, source and target vocabularies, and the sequence length (in the config file)\n",
    "train_ds = TranslationDataset(src_train, trg_train, source_vocab, target_vocab, config[\"seq_len\"])\n",
    "val_ds = TranslationDataset(src_val, trg_val, source_vocab, target_vocab, config[\"seq_len\"])\n",
    "test_ds = TranslationDataset(src_test, trg_test, source_vocab, target_vocab, config[\"seq_len\"])\n",
    "\n",
    "# Print dataset sizes and a sample from the training dataset\n",
    "print(\"Train dataset size:\", len(train_ds))\n",
    "print(\"Validation dataset size:\", len(val_ds))\n",
    "print(\"Test dataset size:\", len(test_ds))"
   ]
  },
  {
   "cell_type": "code",
   "execution_count": 11,
   "metadata": {},
   "outputs": [
    {
     "name": "stdout",
     "output_type": "stream",
     "text": [
      "Some examples from the dataloader:\n",
      "{'encoder_input': tensor([[    1, 34564,   214,  ...,     3,     3,     3],\n",
      "        [    1,     8,   223,  ...,     3,     3,     3],\n",
      "        [    1,  2055,    34,  ...,     3,     3,     3],\n",
      "        ...,\n",
      "        [    1,     8,   943,  ...,     3,     3,     3],\n",
      "        [    1,    96,   444,  ...,     3,     3,     3],\n",
      "        [    1,   299,   214,  ...,     3,     3,     3]]), 'decoder_input': tensor([[    1, 55649, 53128,  ...,     3,     3,     3],\n",
      "        [    1,   248,    90,  ...,     3,     3,     3],\n",
      "        [    1, 12596,  1355,  ...,     3,     3,     3],\n",
      "        ...,\n",
      "        [    1,  1050,  1367,  ...,     3,     3,     3],\n",
      "        [    1,   199,  1217,  ...,     3,     3,     3],\n",
      "        [    1,   716,   391,  ...,     3,     3,     3]]), 'encoder_mask': tensor([[[[1, 1, 1,  ..., 0, 0, 0]]],\n",
      "\n",
      "\n",
      "        [[[1, 1, 1,  ..., 0, 0, 0]]],\n",
      "\n",
      "\n",
      "        [[[1, 1, 1,  ..., 0, 0, 0]]],\n",
      "\n",
      "\n",
      "        ...,\n",
      "\n",
      "\n",
      "        [[[1, 1, 1,  ..., 0, 0, 0]]],\n",
      "\n",
      "\n",
      "        [[[1, 1, 1,  ..., 0, 0, 0]]],\n",
      "\n",
      "\n",
      "        [[[1, 1, 1,  ..., 0, 0, 0]]]], dtype=torch.int32), 'decoder_mask': tensor([[[[1, 0, 0,  ..., 0, 0, 0],\n",
      "          [1, 1, 0,  ..., 0, 0, 0],\n",
      "          [1, 1, 1,  ..., 0, 0, 0],\n",
      "          ...,\n",
      "          [1, 1, 1,  ..., 0, 0, 0],\n",
      "          [1, 1, 1,  ..., 0, 0, 0],\n",
      "          [1, 1, 1,  ..., 0, 0, 0]]],\n",
      "\n",
      "\n",
      "        [[[1, 0, 0,  ..., 0, 0, 0],\n",
      "          [1, 1, 0,  ..., 0, 0, 0],\n",
      "          [1, 1, 1,  ..., 0, 0, 0],\n",
      "          ...,\n",
      "          [1, 1, 1,  ..., 0, 0, 0],\n",
      "          [1, 1, 1,  ..., 0, 0, 0],\n",
      "          [1, 1, 1,  ..., 0, 0, 0]]],\n",
      "\n",
      "\n",
      "        [[[1, 0, 0,  ..., 0, 0, 0],\n",
      "          [1, 1, 0,  ..., 0, 0, 0],\n",
      "          [1, 1, 1,  ..., 0, 0, 0],\n",
      "          ...,\n",
      "          [1, 1, 1,  ..., 0, 0, 0],\n",
      "          [1, 1, 1,  ..., 0, 0, 0],\n",
      "          [1, 1, 1,  ..., 0, 0, 0]]],\n",
      "\n",
      "\n",
      "        ...,\n",
      "\n",
      "\n",
      "        [[[1, 0, 0,  ..., 0, 0, 0],\n",
      "          [1, 1, 0,  ..., 0, 0, 0],\n",
      "          [1, 1, 1,  ..., 0, 0, 0],\n",
      "          ...,\n",
      "          [1, 1, 1,  ..., 0, 0, 0],\n",
      "          [1, 1, 1,  ..., 0, 0, 0],\n",
      "          [1, 1, 1,  ..., 0, 0, 0]]],\n",
      "\n",
      "\n",
      "        [[[1, 0, 0,  ..., 0, 0, 0],\n",
      "          [1, 1, 0,  ..., 0, 0, 0],\n",
      "          [1, 1, 1,  ..., 0, 0, 0],\n",
      "          ...,\n",
      "          [1, 1, 1,  ..., 0, 0, 0],\n",
      "          [1, 1, 1,  ..., 0, 0, 0],\n",
      "          [1, 1, 1,  ..., 0, 0, 0]]],\n",
      "\n",
      "\n",
      "        [[[1, 0, 0,  ..., 0, 0, 0],\n",
      "          [1, 1, 0,  ..., 0, 0, 0],\n",
      "          [1, 1, 1,  ..., 0, 0, 0],\n",
      "          ...,\n",
      "          [1, 1, 1,  ..., 0, 0, 0],\n",
      "          [1, 1, 1,  ..., 0, 0, 0],\n",
      "          [1, 1, 1,  ..., 0, 0, 0]]]]), 'label': tensor([[55649, 53128,    47,  ...,     3,     3,     3],\n",
      "        [  248,    90,  2132,  ...,     3,     3,     3],\n",
      "        [12596,  1355,  2347,  ...,     3,     3,     3],\n",
      "        ...,\n",
      "        [ 1050,  1367,   112,  ...,     3,     3,     3],\n",
      "        [  199,  1217,   303,  ...,     3,     3,     3],\n",
      "        [  716,   391,    13,  ...,     3,     3,     3]]), 'src': ['FMD is not endemic in the EU, and prophylactic vaccination is not appropriate in the EU.', 'I want an International Monetary Fund that does not just react to crises, but prevents crises, and I want a World Bank that has the resources to prevent poverty and to facilitate, amidst the collapse of trade credits, the expansion of trade around the world.', 'While that might seem trivial in the context of the many serious issues here today, it is something we must celebrate.', 'Perhaps what Mr Watt is asking is if these systems should be harmonised in the future, that is, if the free movement of persons encourages us to establish an identical system in all the Member States.', 'As I said earlier, this was one of the main reasons why I felt our decision was the right one.', 'In these circumstances, measures such as promotion through this directive, cooperation between Member States and organ exchange, all tightly regulated by quality and safety standards, give us encouragement.', 'Does it not also mean, more fundamentally, that adults should not have the opportunity of being perverted, over the course of time, by being allowed to view such products?', 'The publication of the Commission White Paper on food safety and the proposed establishment of a European Food Authority marks a new era in food production.', '(RO) Madam President, I would first of all like to welcome the commitment expressed by the Commission in the recent communication it presented to continue the process for simplifying the common agricultural policy.', 'I hope that we too will be allies of the Belgian presidency and the Belgian presidency not just an ally of the European Parliament.', 'However, there is also the other pole, the workers’ and grass-roots movement in general, which has the power, by rallying and fighting, to ruin these plans.', 'Probably not, for the signs are there for everyone to see.', 'Mr President, I would not want Mr Bolkestein to return home thinking that there are extremely mysterious goings-on in this Parliament.', 'The European model, therefore, needs an overhaul which, without compromising the important social progress achieved in the 20th century, will help it to get closer to the people and thereby respond more effectively to the demands of a constantly-changing society and of an economy now operating on a global scale.', 'I wish the Finnish presidency every success.', 'in writing. - (PL) Sanctions imposed by the European Union are instruments that ensure the effectiveness of the CFSP.', 'Unfortunately, it is the case that EU-owned and/or -flagged ships are also dismantled under such conditions.', 'This is therefore clearly one of the great responsibilities of Member States.', 'I would just ask you, Madam President, to remind the House of our responsibilities for future security.', \"I am pleased to inform you that an architect's competition for the design of the Union's pavilion has now been judged.\", 'That impact study is in your hands, Commissioner, but you have not yet allowed us to see it.', 'Our group held a conference on the future of the common agricultural policy on 13 and 14 November. We talked about a new social pact to be renewed, a pact between agriculture and society, highlighting how inertia is the greatest enemy of a CAP which wants to be more modern and renew itself.', 'I must also thank other Members who have ensured that we reached a consensus in setting an important stage for the future.', 'The provisions of the framework directive on this point do not, therefore, provide any grounds for introducing a universal water or sewage tax in Germany, for example.', 'I know that some in this House are thinking of voting against one of the nominees for the Court of Auditors.', 'Many scientists dispute this and recommend more research with adult stem cells to achieve the same results in curing diseases.', \"in writing. - Having supported the report, may I remind you that the first speech that I made in this Chamber, on 13 December 2004, concerned Turkey's progress towards accession, insisting that before even considering their membership, Turkey should first recognise the legitimate Greek Cypriot government, acknowledge the 1915 Armenian genocide and improve the situation of the world's largest stateless nation, the Kurds.\", 'The Commission is, of course, from now on also actively working to ensure that the plans of action against organized crime that we have just debated are carried out effectively.', 'You might say that this is a good sign: people are interested in our work. But you are quite aware that this is not the case at all.', 'However, the Europe 2020 strategy recognises for the first time the need for a new approach with a flagship initiative.', 'Madam President-in-Office of the Council, Commissioner, may heaven preserve us from the weapons which serve and are designed to protect us.', \"I wish to stress the significance of implementing the symbolic 'Youth on the Move' initiative.\", 'I am thinking about the establishment of a constitutional state and the way in which we, the European Union, backed by our extensive experience, with the contribution we can make to restoring a true, independent, legal body with judges who truly render judgment, with everything that is involved in this and what is important, can train these people and give them guidance.', 'Resumption of the session', 'We therefore call on the Sudanese Government to comply with Chapter\\xa07 of the UN Charter and accept the presence in Darfur of a UN peacekeeping force of the kind provided for in Security Council Resolution 1706.', 'Private equity involves enormous numbers of leveraged buyouts, LBOs, which have been carried out with virtually no own capital.', 'I really think we need a much more extensive budgetary reform.', 'We must ensure that we avoid such a situation.', 'If we are to be able to make this available, we need, then, to extend the legal basis.', 'Tibet possessed, and to some extent still does possess, an independent culture, religion and way of life, and it is now high time for the Council to appoint an EU Special Representative and for Tibet as a whole to achieve an agreed autonomy.', 'I turned out at the end of the period of time with a profit, which was a surprise to me and to everybody else, given my earlier reluctance in that area.', 'We also support the principle of random inspections. These have a preventive effect.', 'We should draw on experience, and this is part of the budgetary review. Experience teaches us that we have to readjust the balance between predictability and flexibility.', 'In principle, if they are aged, these fractures are no longer open, and are therefore healed. There are no longer any risks in terms of food.', 'The Commission shares their views in considering that priority should be given to ensuring coherence of the initiatives taken and the best use of the financial resources provided.', 'Peace is not only the absence of war; it is a state of justice, a matter of urgency that affects us all, men and women, today.', 'That would not only harm Parliament tremendously, but it is also unnecessary from a political point of view.', 'In spite of everything, industry is the backbone of the European economy.', 'For me, this means that we must keep increasing our efforts to find recognised alternative methods to replace animal testing.', 'The question I have to ask is how can you look at ways of ameliorating the effects without a study?', 'Concerning assistance and social reintegration, the need for close cooperation on a regular basis between public authorities, including law enforcement authorities, and NGOs must also be stressed. I believe it is very important to have close and permanent cooperation between public authorities and the private sector on protecting and reintegrating victims.', 'There, we have not yet succeeded in persuading Muslims that a war there is as necessary as it was in Afghanistan, and their scepticism is something I share.', 'I could hardly refuse to take a question from a close cousin across the water.', 'And company law is not the same in Britain for example as on the continent.', \"I warmly welcome Parliament's resolution on Sudan and South Sudan, which reiterates full respect for the referendum of January 2011, sanctioning the independence of South Sudan.\", 'In the field of maritime safety, ladies and gentlemen, we have held discussions for several years, following the tragic Erika accident, and again recently following the Prestige disaster.', 'I have no idea and I am not going to guess.', '(ES) I would like to thank the FICIB for fighting for all hostages in Colombia.', 'This is a complex issue, especially since negotiations with our international partners run in parallel to our own internal discussions.', \"By imposing itself on this diverse nature, which is essential for Europe's wealth and which should indeed be allowed to express itself, the ideology of unification is going to give rise to serious conflicts in the years ahead.\", 'However, I really cannot follow what Mr Krahmer means if he is saying, basically, that if someone has enough money to buy a particularly large and expensive car they also acquire the right, at the same time, to cause more pollution.', 'I pay tribute to the efforts of all who worked hard to stabilise the situation and to restore calm in Kosovo.', 'The Committee voted on the report yesterday, and we can therefore commend this request for urgent procedure to the House.', 'This is, of course, a misprint.'], 'trg': [\"L'afta epizootica non è endemica nell'UE e la vaccinazione profilattica nell'UE non è appropriata.\", \"Vorrei un Fondo monetario internazionale che non si limiti soltanto a reagire alle crisi, ma sia in grado di prevenirle, e voglio una Banca mondiale che disponga delle risorse per prevenire la povertà e promuovere, seppure in un clima di crisi per i crediti commerciali, l'espansione degli scambi a livello mondiale.\", 'Sebbene possa sembrare banale nel contesto delle numerose e serie questioni di oggi, è un aspetto cui va dato risalto.', \"Ma forse l'interrogazione dell'onorevole Watts è volta a sapere se in futuro ci sarà un'armonizzazione in materia, ovvero se la libera circolazione delle persone stimolerà ad avere un regime analogo in tutti gli Stati membri.\", 'Come ho già accennato, questa è stata una delle argomentazioni più importanti che mi ha spinto a prendere questa decisione.', 'In questa situazione la presente direttiva, la cooperazione tra gli Stati membri e lo scambio di organi adeguatamente regolamentato da norme di qualità e di sicurezza sono per noi fonte di incoraggiamento.', 'Non si tratterebbe forse, più fondamentalmente, di far sì che gli adulti non abbiano la possibilità di risentire a lungo termine dalla visione di simili produzioni?', \"La pubblicazione del Libro bianco della Commissione sulla sicurezza alimentare e la proposta di istituire un' Autorità europea per gli alimenti segna una nuova era nella produzione alimentare.\", \"(RO) Signora Presidente, desidero in primo luogo esprimere il mio apprezzamento per l'impegno assunto dalla Commissione con la recente comunicazione, presentata allo scopo di continuare il processo di semplificazione della politica agricola comune.\", 'Mi auguro che saremo, anche noi, alleati della Presidenza belga e non solo la Presidenza belga alleata del Parlamento europeo.', 'Esiste però anche l’altro schieramento, il movimento operaio e più in generale i movimenti popolari, che, uniti nella lotta, potranno far fallire questi piani.', 'Probabilmente no, dati i segni visibili a tutti.', 'Signor Presidente, non vorrei che il Commissario Bolkestein se ne andasse a casa pensando che il Parlamento fa cose circondate da un alone di mistero.', 'Il modello europeo deve dunque essere oggetto di una necessaria revisione che, senza compromettere le importanti conquiste sociali del secolo scorso, riesca, avvicinandosi ai cittadini, a rispondere meglio alle esigenze di una società in continua mutazione e di un’economia ormai su scala planetaria.', 'Auguro alla Presidenza finlandese ogni successo.', \"per iscritto. - (PL) Le sanzioni imposte dall'Unione europea sono strumenti che garantiscono l'efficacia della PESC.\", 'Avviene purtroppo che vengano demolite in tali condizioni anche navi appartenenti all’Unione europea o battenti bandiera dell’Unione europea.', 'Ecco che ci troviamo di fronte a una delle grandi responsabilità degli Stati membri.', 'Signora Presidente, le chiedo soltanto di ricordare al Parlamento le nostre responsabilità per la sicurezza futura.', \"Sono lieta di informarvi che sono stati esaminati gli elaborati degli architetti che hanno partecipato al concorso per la progettazione del padiglione dell'Unione europea.\", 'Questo studio d’impatto è nelle sue mani, signor Commissario, e per il momento lei non ci ha ancora consentito di prenderne visione.', \"Sul futuro della politica agricola comune il nostro gruppo ha tenuto una conferenza, il 13 e 14 novembre; abbiamo parlato di un nuovo patto sociale da rinnovare, un patto tra l'agricoltura e la società, mettendo in evidenza come l'inerzia sia il maggior nemico di una PAC che vuole essere più moderna e rinnovarsi.\", 'Vorrei ringraziare, altresì, gli altri onorevoli che si sono adoperati affinché in questa materia così importante si stabilisse, di comune accordo, la giusta direzione verso cui procedere in futuro.', \"Le relative disposizioni della direttiva quadro non possono perciò motivare l'introduzione in Germania di un'imposta generale sull'acqua o sulle acque reflue.\", 'So che alcuni dei presenti stanno pensando di votare contro una delle persone designate per la Corte dei Conti.', \"Molti scienziati contestano quest' affermazione e propongono di intensificare la ricerca sulle cellule staminali presenti nell' adulto per conseguire gli stessi risultati nella cura delle malattie.\", \"per iscritto. - (EN) Avendo appoggiato la relazione, desidero ricordarvi che il primo discorso che ho tenuto in quest'Assemblea il 13 dicembre 2004, relativo ai progressi della Turchia verso l'adesione, insistendo sul fatto che prima ancora di prendere in considerazione l'adesione, la Turchia deve prima riconoscere il legittimo governo greco-cipriota, riconoscere il genocidio armeno del 1915 e migliorare la situazione della più grande nazione senza Stato a livello mondiale, i curdi.\", \"La Commissione, naturalmente, intende adoperarsi attivamente anche in futuro per l'effettiva attuazione del piano d'azione contro il crimine organizzato appena discusso.\", 'Forse è un buon segno, dirà lei: dimostra interesse per i lavori della Commissione, ma sa bene che non è per nulla così.', \"La strategia Europa 2020, per la prima volta, riconosce invece la necessità di un nuovo approccio, con la presentazione di un'iniziativa faro.\", 'Signora Presidente del Consiglio, signor Commissario, il cielo ci protegga dalla armi che servono e sono state progettate per difenderci.', \"Vorrei sottolineare il significato della realizzazione dell'iniziativa simbolica Youth on the Move.\", 'Penso altresì al contributo che noi, come Unione europea, forti della nostra ampia esperienza, possiamo dare alla creazione di uno Stato costituzionale, ad esempio fornendo agli iracheni – consapevoli di tutte le inevitabili conseguenze e dell’importanza di un simile intervento – la preparazione e la guida necessarie per istituire un organismo giudiziario che abbia poteri reali e sia indipendente e formato da giudici che operino realmente al servizio della giustizia.', 'Ripresa della sessione', 'Invitiamo quindi il governo sudanese a rispettare l’articolo 7 della Carta ONU e accettare la presenza nel Darfur di una forza di dell’ONU, come previsto dalla risoluzione 1706 del Consiglio di sicurezza.', 'I fondi di private equity sono connessi a un numero molto elevato di operazioni di leveraged buyout che sono state realizzate praticamente in assenza di capitali propri.', 'Credo che occorra una riforma del bilancio ben più estesa.', 'Dobbiamo accertarci di evitare tale situazione.', 'Per potervi dare esecuzione occorre pertanto prorogare la base giuridica.', \"Il Tibet aveva e in parte ha ancora una cultura, una religione e uno stile di vita indipendenti, e adesso è proprio arrivato il momento che il Consiglio designi un rappresentante speciale dell'UE e che l'intero paese raggiunga un'autonomia sancita ufficialmente.\", 'Mi sono ritrovato alla fine del periodo con un profitto, che ha sorpreso me e tutti gli altri, considerata la mia riluttanza in merito.', 'Appoggiamo anche il principio delle ispezioni improvvise, che hanno un effetto preventivo.', \"Dobbiamo attingere all'esperienza nella revisione del bilancio e l'esperienza ci insegna che bisogna ripristinare un equilibrio tra prevedibilità e flessibilità.\", 'In teoria, se sono vecchie, queste fratture non sono più esposte, quindi sono guarite e non rappresentano più un pericolo dal punto di vista alimentare.', \"La Commissione condivide l'opinione da loro espressa e cioè che sia prioritario garantire la coerenza delle iniziative prese e l'utilizzo ottimale delle risorse finanziarie fornite.\", 'La pace non è solo l’assenza di guerra; è uno stato di giustizia, un tema di grande urgenza che oggi tocca tutti, uomini e donne.', 'Questa evenienza non solo danneggerebbe il Parlamento, ma sarebbe anche inutile dal punto di vista politico.', 'Nonostante tutto, l’industria rimane la spina dorsale dell’economia europea.', 'A mio avviso, ciò significa che dobbiamo continuare ad aumentare i nostri sforzi al fine di trovare metodi alternativi riconosciuti volti a sostituire la sperimentazione animale.', 'La domanda che devo porle è la seguente: come può pensare a possibili vie di miglioramento di quegli effetti senza uno studio in materia?', \"In materia di assistenza e reintegrazione sociale, va anche ribadita l'esigenza di una stretta e costante cooperazione fra autorità pubbliche, autorità di polizia e ONG; mi sembra importantissimo che, per quanto riguarda la protezione e la reintegrazione delle vittime, si instauri una cooperazione stretta e permanente fra autorità pubbliche e settore privato.\", \"In Iraq finora non siamo riusciti a convincere i musulmani che nel loro paese, come in Afghanistan, doveva esserci una guerra ed anch'io condivido il loro scetticismo.\", \"La Tunisia è un partner importante dell'Unione europea.\", 'E il diritto delle società inglese, ad esempio, è assai diverso dal diritto delle società dei paesi continentali.', \"per iscritto. - Accolgo con particolare favore la risoluzione del Parlamento sul Sudan e Sudan meridionale, che ribadisce il pieno rispetto per il referendum che, nel gennaio 2011, ha sancito l'indipendenza del Sudan meridionale.\", \"Nel campo della sicurezza marittima, onorevoli parlamentari, il dibattito prosegue ormai da anni, a seguito della catastrofe dell'Erika, e ancora in tempi recenti, a seguito del disastro della Prestige.\", 'Non lo so, non voglio pronunciarmi.', '(ES) Vorrei ringraziare la FICIB per aver lottato per la liberazione di tutti gli ostaggi in Colombia.', 'Si tratta di una questione complessa, soprattutto dal momento che i negoziati con i partner internazionali si svolgono in parallelo al nostro dibattito interno.', \"Imponendosi a questa natura diversificata, che costituisce la ricchezza stessa dell'Europa e a cui si dovrebbe consentire di esprimersi, l'ideologia dell'unificazione susciterà profondi conflitti nei prossimi anni.\", \"Ad ogni modo, non riesco veramente a capire cosa intenda l'onorevole Krahmer dicendo che, fondamentalmente, se qualcuno ha abbastanza soldi per comprare un'automobile particolarmente grande e costosa acquisisce, al tempo stesso, il diritto di inquinare di più.\", 'Mi congratulo per gli sforzi di quanti si sono alacremente adoperati per stabilizzare la situazione e riportare la calma in Kosovo.', 'La commissione ha già approvato ieri la relazione e pertanto possiamo raccomandare di accogliere la richiesta.', 'Si tratta, ovviamente, di un errore di stampa.']}\n"
     ]
    }
   ],
   "source": [
    "# Create dataloaders\n",
    "train_dl = DataLoader(train_ds, batch_size=config[\"batch_size\"], shuffle=True)\n",
    "val_dl = DataLoader(val_ds, batch_size=1, shuffle=False)\n",
    "test_dl = DataLoader(test_ds, batch_size=config[\"batch_size\"], shuffle=False)\n",
    "\n",
    " # Print some examples from the dataloader\n",
    "print(\"Some examples from the dataloader:\")\n",
    "for batch in train_dl:\n",
    "    print(batch)\n",
    "    break"
   ]
  },
  {
   "cell_type": "code",
   "execution_count": 12,
   "metadata": {},
   "outputs": [],
   "source": [
    "# # Load the English-Italian dataset\n",
    "# en_file_path = config['en-it-dataset-english'] \n",
    "# it_file_path = config['en-it-dataset-italian']\n",
    "\n",
    "# preprocess(en_file_path, it_file_path)"
   ]
  }
 ],
 "metadata": {
  "kernelspec": {
   "display_name": "myenv",
   "language": "python",
   "name": "python3"
  },
  "language_info": {
   "codemirror_mode": {
    "name": "ipython",
    "version": 3
   },
   "file_extension": ".py",
   "mimetype": "text/x-python",
   "name": "python",
   "nbconvert_exporter": "python",
   "pygments_lexer": "ipython3",
   "version": "3.9.6"
  }
 },
 "nbformat": 4,
 "nbformat_minor": 2
}
